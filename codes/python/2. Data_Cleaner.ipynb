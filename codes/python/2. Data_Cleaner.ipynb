{
  "nbformat": 4,
  "nbformat_minor": 0,
  "metadata": {
    "colab": {
      "name": "Data Cleaner",
      "provenance": [],
      "collapsed_sections": [],
      "authorship_tag": "ABX9TyOBE/h/nSoxk3eAPzcD14S1",
      "include_colab_link": true
    },
    "kernelspec": {
      "name": "python3",
      "display_name": "Python 3"
    },
    "language_info": {
      "name": "python"
    }
  },
  "cells": [
    {
      "cell_type": "markdown",
      "metadata": {
        "id": "view-in-github",
        "colab_type": "text"
      },
      "source": [
        "<a href=\"https://colab.research.google.com/github/akifnu/cyclistic/blob/main/codes/python/Data_Cleaner.ipynb\" target=\"_parent\"><img src=\"https://colab.research.google.com/assets/colab-badge.svg\" alt=\"Open In Colab\"/></a>"
      ]
    },
    {
      "cell_type": "code",
      "metadata": {
        "id": "fgA-rlk-sdSk"
      },
      "source": [
        "import numpy as np\n",
        "import pandas as pd"
      ],
      "execution_count": null,
      "outputs": []
    },
    {
      "cell_type": "code",
      "metadata": {
        "colab": {
          "base_uri": "https://localhost:8080/"
        },
        "id": "8QWoJrUfsmOd",
        "outputId": "b7641193-3068-4d92-e8e7-ea3d3b356491"
      },
      "source": [
        "from google.colab import drive\n",
        "drive.mount('/content/drive') "
      ],
      "execution_count": null,
      "outputs": [
        {
          "output_type": "stream",
          "text": [
            "Mounted at /content/drive\n"
          ],
          "name": "stdout"
        }
      ]
    },
    {
      "cell_type": "code",
      "metadata": {
        "colab": {
          "base_uri": "https://localhost:8080/"
        },
        "id": "OwNU2Q41stiT",
        "outputId": "fad20736-74e2-4012-e5a3-308ab3559314"
      },
      "source": [
        "clean_data=pd.read_csv(r\"/content/drive/MyDrive/DA_portfolio/Divvy_Trips_clean.csv\",index_col=0)"
      ],
      "execution_count": null,
      "outputs": [
        {
          "output_type": "stream",
          "text": [
            "/usr/local/lib/python3.7/dist-packages/IPython/core/interactiveshell.py:2718: DtypeWarning: Columns (1) have mixed types.Specify dtype option on import or set low_memory=False.\n",
            "  interactivity=interactivity, compiler=compiler, result=result)\n",
            "/usr/local/lib/python3.7/dist-packages/numpy/lib/arraysetops.py:580: FutureWarning: elementwise comparison failed; returning scalar instead, but in the future will perform elementwise comparison\n",
            "  mask |= (ar1 == a)\n"
          ],
          "name": "stderr"
        }
      ]
    },
    {
      "cell_type": "code",
      "metadata": {
        "colab": {
          "base_uri": "https://localhost:8080/",
          "height": 419
        },
        "id": "5bV8g3-9tapN",
        "outputId": "bcb4ed92-9d2d-4986-ba34-26f918ebab37"
      },
      "source": [
        "clean_data"
      ],
      "execution_count": null,
      "outputs": [
        {
          "output_type": "execute_result",
          "data": {
            "text/html": [
              "<div>\n",
              "<style scoped>\n",
              "    .dataframe tbody tr th:only-of-type {\n",
              "        vertical-align: middle;\n",
              "    }\n",
              "\n",
              "    .dataframe tbody tr th {\n",
              "        vertical-align: top;\n",
              "    }\n",
              "\n",
              "    .dataframe thead th {\n",
              "        text-align: right;\n",
              "    }\n",
              "</style>\n",
              "<table border=\"1\" class=\"dataframe\">\n",
              "  <thead>\n",
              "    <tr style=\"text-align: right;\">\n",
              "      <th></th>\n",
              "      <th>ride_id</th>\n",
              "      <th>started_at</th>\n",
              "      <th>ended_at</th>\n",
              "      <th>start_station_name</th>\n",
              "      <th>end_station_name</th>\n",
              "      <th>start_station_id</th>\n",
              "      <th>end_station_id</th>\n",
              "      <th>member_casual</th>\n",
              "    </tr>\n",
              "  </thead>\n",
              "  <tbody>\n",
              "    <tr>\n",
              "      <th>0</th>\n",
              "      <td>22178529</td>\n",
              "      <td>2019-04-01 00:02:22</td>\n",
              "      <td>2019-04-01 00:09:48</td>\n",
              "      <td>Daley Center Plaza</td>\n",
              "      <td>Desplaines St &amp; Kinzie St</td>\n",
              "      <td>81</td>\n",
              "      <td>56.0</td>\n",
              "      <td>member</td>\n",
              "    </tr>\n",
              "    <tr>\n",
              "      <th>1</th>\n",
              "      <td>22178530</td>\n",
              "      <td>2019-04-01 00:03:02</td>\n",
              "      <td>2019-04-01 00:20:30</td>\n",
              "      <td>Wood St &amp; Taylor St</td>\n",
              "      <td>Wabash Ave &amp; Roosevelt Rd</td>\n",
              "      <td>317</td>\n",
              "      <td>59.0</td>\n",
              "      <td>member</td>\n",
              "    </tr>\n",
              "    <tr>\n",
              "      <th>2</th>\n",
              "      <td>22178531</td>\n",
              "      <td>2019-04-01 00:11:07</td>\n",
              "      <td>2019-04-01 00:15:19</td>\n",
              "      <td>LaSalle St &amp; Jackson Blvd</td>\n",
              "      <td>Canal St &amp; Madison St</td>\n",
              "      <td>283</td>\n",
              "      <td>174.0</td>\n",
              "      <td>member</td>\n",
              "    </tr>\n",
              "    <tr>\n",
              "      <th>3</th>\n",
              "      <td>22178532</td>\n",
              "      <td>2019-04-01 00:13:01</td>\n",
              "      <td>2019-04-01 00:18:58</td>\n",
              "      <td>McClurg Ct &amp; Illinois St</td>\n",
              "      <td>Kingsbury St &amp; Kinzie St</td>\n",
              "      <td>26</td>\n",
              "      <td>133.0</td>\n",
              "      <td>member</td>\n",
              "    </tr>\n",
              "    <tr>\n",
              "      <th>4</th>\n",
              "      <td>22178533</td>\n",
              "      <td>2019-04-01 00:19:26</td>\n",
              "      <td>2019-04-01 00:36:13</td>\n",
              "      <td>Halsted St &amp; 18th St</td>\n",
              "      <td>Blue Island Ave &amp; 18th St</td>\n",
              "      <td>202</td>\n",
              "      <td>129.0</td>\n",
              "      <td>member</td>\n",
              "    </tr>\n",
              "    <tr>\n",
              "      <th>...</th>\n",
              "      <td>...</td>\n",
              "      <td>...</td>\n",
              "      <td>...</td>\n",
              "      <td>...</td>\n",
              "      <td>...</td>\n",
              "      <td>...</td>\n",
              "      <td>...</td>\n",
              "      <td>...</td>\n",
              "    </tr>\n",
              "    <tr>\n",
              "      <th>426882</th>\n",
              "      <td>ADDAA33CEBCAE733</td>\n",
              "      <td>2020-03-10 10:40:06</td>\n",
              "      <td>2020-03-10 10:40:07</td>\n",
              "      <td>HQ QR</td>\n",
              "      <td>HQ QR</td>\n",
              "      <td>675</td>\n",
              "      <td>675.0</td>\n",
              "      <td>casual</td>\n",
              "    </tr>\n",
              "    <tr>\n",
              "      <th>426883</th>\n",
              "      <td>82B10FA3994BC66A</td>\n",
              "      <td>2020-03-07 15:25:55</td>\n",
              "      <td>2020-03-07 16:14:03</td>\n",
              "      <td>Rush St &amp; Superior St</td>\n",
              "      <td>Sheridan Rd &amp; Irving Park Rd</td>\n",
              "      <td>161</td>\n",
              "      <td>240.0</td>\n",
              "      <td>member</td>\n",
              "    </tr>\n",
              "    <tr>\n",
              "      <th>426884</th>\n",
              "      <td>AA0D5AAA0B59C8AA</td>\n",
              "      <td>2020-03-01 13:12:38</td>\n",
              "      <td>2020-03-01 13:38:29</td>\n",
              "      <td>Clark St &amp; Lincoln Ave</td>\n",
              "      <td>Ashland Ave &amp; Division St</td>\n",
              "      <td>141</td>\n",
              "      <td>210.0</td>\n",
              "      <td>casual</td>\n",
              "    </tr>\n",
              "    <tr>\n",
              "      <th>426885</th>\n",
              "      <td>3296360A7BC20FB8</td>\n",
              "      <td>2020-03-07 18:02:45</td>\n",
              "      <td>2020-03-07 18:13:18</td>\n",
              "      <td>Franklin St &amp; Illinois St</td>\n",
              "      <td>Stetson Ave &amp; South Water St</td>\n",
              "      <td>672</td>\n",
              "      <td>264.0</td>\n",
              "      <td>member</td>\n",
              "    </tr>\n",
              "    <tr>\n",
              "      <th>426886</th>\n",
              "      <td>064EC7698E4FF9B3</td>\n",
              "      <td>2020-03-08 13:03:57</td>\n",
              "      <td>2020-03-08 13:32:27</td>\n",
              "      <td>Dearborn St &amp; Erie St</td>\n",
              "      <td>Michigan Ave &amp; Oak St</td>\n",
              "      <td>110</td>\n",
              "      <td>85.0</td>\n",
              "      <td>casual</td>\n",
              "    </tr>\n",
              "  </tbody>\n",
              "</table>\n",
              "<p>4816486 rows × 8 columns</p>\n",
              "</div>"
            ],
            "text/plain": [
              "                 ride_id           started_at  ... end_station_id member_casual\n",
              "0               22178529  2019-04-01 00:02:22  ...           56.0        member\n",
              "1               22178530  2019-04-01 00:03:02  ...           59.0        member\n",
              "2               22178531  2019-04-01 00:11:07  ...          174.0        member\n",
              "3               22178532  2019-04-01 00:13:01  ...          133.0        member\n",
              "4               22178533  2019-04-01 00:19:26  ...          129.0        member\n",
              "...                  ...                  ...  ...            ...           ...\n",
              "426882  ADDAA33CEBCAE733  2020-03-10 10:40:06  ...          675.0        casual\n",
              "426883  82B10FA3994BC66A  2020-03-07 15:25:55  ...          240.0        member\n",
              "426884  AA0D5AAA0B59C8AA  2020-03-01 13:12:38  ...          210.0        casual\n",
              "426885  3296360A7BC20FB8  2020-03-07 18:02:45  ...          264.0        member\n",
              "426886  064EC7698E4FF9B3  2020-03-08 13:03:57  ...           85.0        casual\n",
              "\n",
              "[4816486 rows x 8 columns]"
            ]
          },
          "metadata": {
            "tags": []
          },
          "execution_count": 40
        }
      ]
    },
    {
      "cell_type": "code",
      "metadata": {
        "id": "tqDHkhxLv488"
      },
      "source": [
        "clean_data[\"started_at\"]= pd.to_datetime(clean_data[\"started_at\"])\n",
        "clean_data[\"ended_at\"]= pd.to_datetime(clean_data[\"ended_at\"])"
      ],
      "execution_count": null,
      "outputs": []
    },
    {
      "cell_type": "code",
      "metadata": {
        "id": "j5A1BzZlNZSx"
      },
      "source": [
        "clean_data[\"tripduration\"]=clean_data[\"ended_at\"]-clean_data[\"started_at\"]"
      ],
      "execution_count": null,
      "outputs": []
    },
    {
      "cell_type": "code",
      "metadata": {
        "id": "KWz1H3YeOvHI"
      },
      "source": [
        "clean_data[\"tripduration\"]=clean_data[\"tripduration\"].values.astype('datetime64[ns]')"
      ],
      "execution_count": null,
      "outputs": []
    },
    {
      "cell_type": "code",
      "metadata": {
        "id": "G1jA9DPUvD9E"
      },
      "source": [
        "clean_data[\"tripduration\"]=pd.to_datetime(clean_data[\"tripduration\"],format='%H:%M:%S').dt.time"
      ],
      "execution_count": null,
      "outputs": []
    },
    {
      "cell_type": "code",
      "metadata": {
        "colab": {
          "base_uri": "https://localhost:8080/",
          "height": 416
        },
        "id": "YaQY-BMyQlRK",
        "outputId": "ba8731ff-382d-462a-cf28-4e858e5a67c2"
      },
      "source": [
        "clean_data"
      ],
      "execution_count": null,
      "outputs": [
        {
          "output_type": "execute_result",
          "data": {
            "text/html": [
              "<div>\n",
              "<style scoped>\n",
              "    .dataframe tbody tr th:only-of-type {\n",
              "        vertical-align: middle;\n",
              "    }\n",
              "\n",
              "    .dataframe tbody tr th {\n",
              "        vertical-align: top;\n",
              "    }\n",
              "\n",
              "    .dataframe thead th {\n",
              "        text-align: right;\n",
              "    }\n",
              "</style>\n",
              "<table border=\"1\" class=\"dataframe\">\n",
              "  <thead>\n",
              "    <tr style=\"text-align: right;\">\n",
              "      <th></th>\n",
              "      <th>ride_id</th>\n",
              "      <th>started_at</th>\n",
              "      <th>ended_at</th>\n",
              "      <th>start_station_name</th>\n",
              "      <th>end_station_name</th>\n",
              "      <th>start_station_id</th>\n",
              "      <th>end_station_id</th>\n",
              "      <th>member_casual</th>\n",
              "      <th>tripduration</th>\n",
              "    </tr>\n",
              "  </thead>\n",
              "  <tbody>\n",
              "    <tr>\n",
              "      <th>0</th>\n",
              "      <td>22178529</td>\n",
              "      <td>2019-04-01 00:02:22</td>\n",
              "      <td>2019-04-01 00:09:48</td>\n",
              "      <td>Daley Center Plaza</td>\n",
              "      <td>Desplaines St &amp; Kinzie St</td>\n",
              "      <td>81</td>\n",
              "      <td>56.0</td>\n",
              "      <td>member</td>\n",
              "      <td>00:07:26</td>\n",
              "    </tr>\n",
              "    <tr>\n",
              "      <th>1</th>\n",
              "      <td>22178530</td>\n",
              "      <td>2019-04-01 00:03:02</td>\n",
              "      <td>2019-04-01 00:20:30</td>\n",
              "      <td>Wood St &amp; Taylor St</td>\n",
              "      <td>Wabash Ave &amp; Roosevelt Rd</td>\n",
              "      <td>317</td>\n",
              "      <td>59.0</td>\n",
              "      <td>member</td>\n",
              "      <td>00:17:28</td>\n",
              "    </tr>\n",
              "    <tr>\n",
              "      <th>2</th>\n",
              "      <td>22178531</td>\n",
              "      <td>2019-04-01 00:11:07</td>\n",
              "      <td>2019-04-01 00:15:19</td>\n",
              "      <td>LaSalle St &amp; Jackson Blvd</td>\n",
              "      <td>Canal St &amp; Madison St</td>\n",
              "      <td>283</td>\n",
              "      <td>174.0</td>\n",
              "      <td>member</td>\n",
              "      <td>00:04:12</td>\n",
              "    </tr>\n",
              "    <tr>\n",
              "      <th>3</th>\n",
              "      <td>22178532</td>\n",
              "      <td>2019-04-01 00:13:01</td>\n",
              "      <td>2019-04-01 00:18:58</td>\n",
              "      <td>McClurg Ct &amp; Illinois St</td>\n",
              "      <td>Kingsbury St &amp; Kinzie St</td>\n",
              "      <td>26</td>\n",
              "      <td>133.0</td>\n",
              "      <td>member</td>\n",
              "      <td>00:05:57</td>\n",
              "    </tr>\n",
              "    <tr>\n",
              "      <th>4</th>\n",
              "      <td>22178533</td>\n",
              "      <td>2019-04-01 00:19:26</td>\n",
              "      <td>2019-04-01 00:36:13</td>\n",
              "      <td>Halsted St &amp; 18th St</td>\n",
              "      <td>Blue Island Ave &amp; 18th St</td>\n",
              "      <td>202</td>\n",
              "      <td>129.0</td>\n",
              "      <td>member</td>\n",
              "      <td>00:16:47</td>\n",
              "    </tr>\n",
              "    <tr>\n",
              "      <th>...</th>\n",
              "      <td>...</td>\n",
              "      <td>...</td>\n",
              "      <td>...</td>\n",
              "      <td>...</td>\n",
              "      <td>...</td>\n",
              "      <td>...</td>\n",
              "      <td>...</td>\n",
              "      <td>...</td>\n",
              "      <td>...</td>\n",
              "    </tr>\n",
              "    <tr>\n",
              "      <th>426882</th>\n",
              "      <td>ADDAA33CEBCAE733</td>\n",
              "      <td>2020-03-10 10:40:06</td>\n",
              "      <td>2020-03-10 10:40:07</td>\n",
              "      <td>HQ QR</td>\n",
              "      <td>HQ QR</td>\n",
              "      <td>675</td>\n",
              "      <td>675.0</td>\n",
              "      <td>casual</td>\n",
              "      <td>00:00:01</td>\n",
              "    </tr>\n",
              "    <tr>\n",
              "      <th>426883</th>\n",
              "      <td>82B10FA3994BC66A</td>\n",
              "      <td>2020-03-07 15:25:55</td>\n",
              "      <td>2020-03-07 16:14:03</td>\n",
              "      <td>Rush St &amp; Superior St</td>\n",
              "      <td>Sheridan Rd &amp; Irving Park Rd</td>\n",
              "      <td>161</td>\n",
              "      <td>240.0</td>\n",
              "      <td>member</td>\n",
              "      <td>00:48:08</td>\n",
              "    </tr>\n",
              "    <tr>\n",
              "      <th>426884</th>\n",
              "      <td>AA0D5AAA0B59C8AA</td>\n",
              "      <td>2020-03-01 13:12:38</td>\n",
              "      <td>2020-03-01 13:38:29</td>\n",
              "      <td>Clark St &amp; Lincoln Ave</td>\n",
              "      <td>Ashland Ave &amp; Division St</td>\n",
              "      <td>141</td>\n",
              "      <td>210.0</td>\n",
              "      <td>casual</td>\n",
              "      <td>00:25:51</td>\n",
              "    </tr>\n",
              "    <tr>\n",
              "      <th>426885</th>\n",
              "      <td>3296360A7BC20FB8</td>\n",
              "      <td>2020-03-07 18:02:45</td>\n",
              "      <td>2020-03-07 18:13:18</td>\n",
              "      <td>Franklin St &amp; Illinois St</td>\n",
              "      <td>Stetson Ave &amp; South Water St</td>\n",
              "      <td>672</td>\n",
              "      <td>264.0</td>\n",
              "      <td>member</td>\n",
              "      <td>00:10:33</td>\n",
              "    </tr>\n",
              "    <tr>\n",
              "      <th>426886</th>\n",
              "      <td>064EC7698E4FF9B3</td>\n",
              "      <td>2020-03-08 13:03:57</td>\n",
              "      <td>2020-03-08 13:32:27</td>\n",
              "      <td>Dearborn St &amp; Erie St</td>\n",
              "      <td>Michigan Ave &amp; Oak St</td>\n",
              "      <td>110</td>\n",
              "      <td>85.0</td>\n",
              "      <td>casual</td>\n",
              "      <td>00:28:30</td>\n",
              "    </tr>\n",
              "  </tbody>\n",
              "</table>\n",
              "<p>3879822 rows × 9 columns</p>\n",
              "</div>"
            ],
            "text/plain": [
              "                 ride_id          started_at  ... member_casual tripduration\n",
              "0               22178529 2019-04-01 00:02:22  ...        member     00:07:26\n",
              "1               22178530 2019-04-01 00:03:02  ...        member     00:17:28\n",
              "2               22178531 2019-04-01 00:11:07  ...        member     00:04:12\n",
              "3               22178532 2019-04-01 00:13:01  ...        member     00:05:57\n",
              "4               22178533 2019-04-01 00:19:26  ...        member     00:16:47\n",
              "...                  ...                 ...  ...           ...          ...\n",
              "426882  ADDAA33CEBCAE733 2020-03-10 10:40:06  ...        casual     00:00:01\n",
              "426883  82B10FA3994BC66A 2020-03-07 15:25:55  ...        member     00:48:08\n",
              "426884  AA0D5AAA0B59C8AA 2020-03-01 13:12:38  ...        casual     00:25:51\n",
              "426885  3296360A7BC20FB8 2020-03-07 18:02:45  ...        member     00:10:33\n",
              "426886  064EC7698E4FF9B3 2020-03-08 13:03:57  ...        casual     00:28:30\n",
              "\n",
              "[3879822 rows x 9 columns]"
            ]
          },
          "metadata": {
            "tags": []
          },
          "execution_count": 8
        }
      ]
    },
    {
      "cell_type": "markdown",
      "metadata": {
        "id": "6nvlDRb5dWM0"
      },
      "source": [
        "Add new columns"
      ]
    },
    {
      "cell_type": "code",
      "metadata": {
        "id": "fO40ahuWQ6HX"
      },
      "source": [
        "clean_data['year'] = pd.DatetimeIndex(clean_data['started_at']).year"
      ],
      "execution_count": null,
      "outputs": []
    },
    {
      "cell_type": "code",
      "metadata": {
        "id": "-xX3NqEPRVAC"
      },
      "source": [
        "clean_data['month'] = pd.DatetimeIndex(clean_data['started_at']).month"
      ],
      "execution_count": null,
      "outputs": []
    },
    {
      "cell_type": "code",
      "metadata": {
        "id": "VQlEtZqKRa7j"
      },
      "source": [
        "clean_data['day'] = pd.DatetimeIndex(clean_data['started_at']).day"
      ],
      "execution_count": null,
      "outputs": []
    },
    {
      "cell_type": "code",
      "metadata": {
        "id": "7kF8AYbicNuL"
      },
      "source": [
        "clean_data['day of the week'] = pd.DatetimeIndex(clean_data['started_at']).dayofweek"
      ],
      "execution_count": null,
      "outputs": []
    },
    {
      "cell_type": "code",
      "metadata": {
        "id": "uawLOaH2c6L0"
      },
      "source": [
        "clean_data['date']=clean_data['started_at'].dt.date"
      ],
      "execution_count": null,
      "outputs": []
    },
    {
      "cell_type": "markdown",
      "metadata": {
        "id": "h365V4v-ffxa"
      },
      "source": [
        "convert the data to seconds and then to numeric"
      ]
    },
    {
      "cell_type": "code",
      "metadata": {
        "id": "SPZ4h1Lbd1oK"
      },
      "source": [
        "clean_data['tripduration_sec']=(clean_data['ended_at']-clean_data['started_at']).dt.seconds"
      ],
      "execution_count": null,
      "outputs": []
    },
    {
      "cell_type": "code",
      "metadata": {
        "id": "PuAaRbSifEmX"
      },
      "source": [
        "clean_data['tripduration_sec']=pd.to_numeric(clean_data['tripduration_sec'])"
      ],
      "execution_count": null,
      "outputs": []
    },
    {
      "cell_type": "code",
      "metadata": {
        "colab": {
          "base_uri": "https://localhost:8080/",
          "height": 416
        },
        "id": "8qGy9ee4RevL",
        "outputId": "e0bd3bf7-a8be-46e4-b8f7-34daeb251e4d"
      },
      "source": [
        "clean_data"
      ],
      "execution_count": null,
      "outputs": [
        {
          "output_type": "execute_result",
          "data": {
            "text/html": [
              "<div>\n",
              "<style scoped>\n",
              "    .dataframe tbody tr th:only-of-type {\n",
              "        vertical-align: middle;\n",
              "    }\n",
              "\n",
              "    .dataframe tbody tr th {\n",
              "        vertical-align: top;\n",
              "    }\n",
              "\n",
              "    .dataframe thead th {\n",
              "        text-align: right;\n",
              "    }\n",
              "</style>\n",
              "<table border=\"1\" class=\"dataframe\">\n",
              "  <thead>\n",
              "    <tr style=\"text-align: right;\">\n",
              "      <th></th>\n",
              "      <th>ride_id</th>\n",
              "      <th>started_at</th>\n",
              "      <th>ended_at</th>\n",
              "      <th>start_station_name</th>\n",
              "      <th>end_station_name</th>\n",
              "      <th>start_station_id</th>\n",
              "      <th>end_station_id</th>\n",
              "      <th>member_casual</th>\n",
              "      <th>tripduration</th>\n",
              "      <th>year</th>\n",
              "      <th>month</th>\n",
              "      <th>day</th>\n",
              "      <th>day of the week</th>\n",
              "      <th>date</th>\n",
              "      <th>tripduration_sec</th>\n",
              "    </tr>\n",
              "  </thead>\n",
              "  <tbody>\n",
              "    <tr>\n",
              "      <th>0</th>\n",
              "      <td>22178529</td>\n",
              "      <td>2019-04-01 00:02:22</td>\n",
              "      <td>2019-04-01 00:09:48</td>\n",
              "      <td>Daley Center Plaza</td>\n",
              "      <td>Desplaines St &amp; Kinzie St</td>\n",
              "      <td>81</td>\n",
              "      <td>56.0</td>\n",
              "      <td>member</td>\n",
              "      <td>00:07:26</td>\n",
              "      <td>2019</td>\n",
              "      <td>4</td>\n",
              "      <td>1</td>\n",
              "      <td>0</td>\n",
              "      <td>2019-04-01</td>\n",
              "      <td>446</td>\n",
              "    </tr>\n",
              "    <tr>\n",
              "      <th>1</th>\n",
              "      <td>22178530</td>\n",
              "      <td>2019-04-01 00:03:02</td>\n",
              "      <td>2019-04-01 00:20:30</td>\n",
              "      <td>Wood St &amp; Taylor St</td>\n",
              "      <td>Wabash Ave &amp; Roosevelt Rd</td>\n",
              "      <td>317</td>\n",
              "      <td>59.0</td>\n",
              "      <td>member</td>\n",
              "      <td>00:17:28</td>\n",
              "      <td>2019</td>\n",
              "      <td>4</td>\n",
              "      <td>1</td>\n",
              "      <td>0</td>\n",
              "      <td>2019-04-01</td>\n",
              "      <td>1048</td>\n",
              "    </tr>\n",
              "    <tr>\n",
              "      <th>2</th>\n",
              "      <td>22178531</td>\n",
              "      <td>2019-04-01 00:11:07</td>\n",
              "      <td>2019-04-01 00:15:19</td>\n",
              "      <td>LaSalle St &amp; Jackson Blvd</td>\n",
              "      <td>Canal St &amp; Madison St</td>\n",
              "      <td>283</td>\n",
              "      <td>174.0</td>\n",
              "      <td>member</td>\n",
              "      <td>00:04:12</td>\n",
              "      <td>2019</td>\n",
              "      <td>4</td>\n",
              "      <td>1</td>\n",
              "      <td>0</td>\n",
              "      <td>2019-04-01</td>\n",
              "      <td>252</td>\n",
              "    </tr>\n",
              "    <tr>\n",
              "      <th>3</th>\n",
              "      <td>22178532</td>\n",
              "      <td>2019-04-01 00:13:01</td>\n",
              "      <td>2019-04-01 00:18:58</td>\n",
              "      <td>McClurg Ct &amp; Illinois St</td>\n",
              "      <td>Kingsbury St &amp; Kinzie St</td>\n",
              "      <td>26</td>\n",
              "      <td>133.0</td>\n",
              "      <td>member</td>\n",
              "      <td>00:05:57</td>\n",
              "      <td>2019</td>\n",
              "      <td>4</td>\n",
              "      <td>1</td>\n",
              "      <td>0</td>\n",
              "      <td>2019-04-01</td>\n",
              "      <td>357</td>\n",
              "    </tr>\n",
              "    <tr>\n",
              "      <th>4</th>\n",
              "      <td>22178533</td>\n",
              "      <td>2019-04-01 00:19:26</td>\n",
              "      <td>2019-04-01 00:36:13</td>\n",
              "      <td>Halsted St &amp; 18th St</td>\n",
              "      <td>Blue Island Ave &amp; 18th St</td>\n",
              "      <td>202</td>\n",
              "      <td>129.0</td>\n",
              "      <td>member</td>\n",
              "      <td>00:16:47</td>\n",
              "      <td>2019</td>\n",
              "      <td>4</td>\n",
              "      <td>1</td>\n",
              "      <td>0</td>\n",
              "      <td>2019-04-01</td>\n",
              "      <td>1007</td>\n",
              "    </tr>\n",
              "    <tr>\n",
              "      <th>...</th>\n",
              "      <td>...</td>\n",
              "      <td>...</td>\n",
              "      <td>...</td>\n",
              "      <td>...</td>\n",
              "      <td>...</td>\n",
              "      <td>...</td>\n",
              "      <td>...</td>\n",
              "      <td>...</td>\n",
              "      <td>...</td>\n",
              "      <td>...</td>\n",
              "      <td>...</td>\n",
              "      <td>...</td>\n",
              "      <td>...</td>\n",
              "      <td>...</td>\n",
              "      <td>...</td>\n",
              "    </tr>\n",
              "    <tr>\n",
              "      <th>426882</th>\n",
              "      <td>ADDAA33CEBCAE733</td>\n",
              "      <td>2020-03-10 10:40:06</td>\n",
              "      <td>2020-03-10 10:40:07</td>\n",
              "      <td>HQ QR</td>\n",
              "      <td>HQ QR</td>\n",
              "      <td>675</td>\n",
              "      <td>675.0</td>\n",
              "      <td>casual</td>\n",
              "      <td>00:00:01</td>\n",
              "      <td>2020</td>\n",
              "      <td>3</td>\n",
              "      <td>10</td>\n",
              "      <td>1</td>\n",
              "      <td>2020-03-10</td>\n",
              "      <td>1</td>\n",
              "    </tr>\n",
              "    <tr>\n",
              "      <th>426883</th>\n",
              "      <td>82B10FA3994BC66A</td>\n",
              "      <td>2020-03-07 15:25:55</td>\n",
              "      <td>2020-03-07 16:14:03</td>\n",
              "      <td>Rush St &amp; Superior St</td>\n",
              "      <td>Sheridan Rd &amp; Irving Park Rd</td>\n",
              "      <td>161</td>\n",
              "      <td>240.0</td>\n",
              "      <td>member</td>\n",
              "      <td>00:48:08</td>\n",
              "      <td>2020</td>\n",
              "      <td>3</td>\n",
              "      <td>7</td>\n",
              "      <td>5</td>\n",
              "      <td>2020-03-07</td>\n",
              "      <td>2888</td>\n",
              "    </tr>\n",
              "    <tr>\n",
              "      <th>426884</th>\n",
              "      <td>AA0D5AAA0B59C8AA</td>\n",
              "      <td>2020-03-01 13:12:38</td>\n",
              "      <td>2020-03-01 13:38:29</td>\n",
              "      <td>Clark St &amp; Lincoln Ave</td>\n",
              "      <td>Ashland Ave &amp; Division St</td>\n",
              "      <td>141</td>\n",
              "      <td>210.0</td>\n",
              "      <td>casual</td>\n",
              "      <td>00:25:51</td>\n",
              "      <td>2020</td>\n",
              "      <td>3</td>\n",
              "      <td>1</td>\n",
              "      <td>6</td>\n",
              "      <td>2020-03-01</td>\n",
              "      <td>1551</td>\n",
              "    </tr>\n",
              "    <tr>\n",
              "      <th>426885</th>\n",
              "      <td>3296360A7BC20FB8</td>\n",
              "      <td>2020-03-07 18:02:45</td>\n",
              "      <td>2020-03-07 18:13:18</td>\n",
              "      <td>Franklin St &amp; Illinois St</td>\n",
              "      <td>Stetson Ave &amp; South Water St</td>\n",
              "      <td>672</td>\n",
              "      <td>264.0</td>\n",
              "      <td>member</td>\n",
              "      <td>00:10:33</td>\n",
              "      <td>2020</td>\n",
              "      <td>3</td>\n",
              "      <td>7</td>\n",
              "      <td>5</td>\n",
              "      <td>2020-03-07</td>\n",
              "      <td>633</td>\n",
              "    </tr>\n",
              "    <tr>\n",
              "      <th>426886</th>\n",
              "      <td>064EC7698E4FF9B3</td>\n",
              "      <td>2020-03-08 13:03:57</td>\n",
              "      <td>2020-03-08 13:32:27</td>\n",
              "      <td>Dearborn St &amp; Erie St</td>\n",
              "      <td>Michigan Ave &amp; Oak St</td>\n",
              "      <td>110</td>\n",
              "      <td>85.0</td>\n",
              "      <td>casual</td>\n",
              "      <td>00:28:30</td>\n",
              "      <td>2020</td>\n",
              "      <td>3</td>\n",
              "      <td>8</td>\n",
              "      <td>6</td>\n",
              "      <td>2020-03-08</td>\n",
              "      <td>1710</td>\n",
              "    </tr>\n",
              "  </tbody>\n",
              "</table>\n",
              "<p>3879822 rows × 15 columns</p>\n",
              "</div>"
            ],
            "text/plain": [
              "                 ride_id          started_at  ...        date tripduration_sec\n",
              "0               22178529 2019-04-01 00:02:22  ...  2019-04-01              446\n",
              "1               22178530 2019-04-01 00:03:02  ...  2019-04-01             1048\n",
              "2               22178531 2019-04-01 00:11:07  ...  2019-04-01              252\n",
              "3               22178532 2019-04-01 00:13:01  ...  2019-04-01              357\n",
              "4               22178533 2019-04-01 00:19:26  ...  2019-04-01             1007\n",
              "...                  ...                 ...  ...         ...              ...\n",
              "426882  ADDAA33CEBCAE733 2020-03-10 10:40:06  ...  2020-03-10                1\n",
              "426883  82B10FA3994BC66A 2020-03-07 15:25:55  ...  2020-03-07             2888\n",
              "426884  AA0D5AAA0B59C8AA 2020-03-01 13:12:38  ...  2020-03-01             1551\n",
              "426885  3296360A7BC20FB8 2020-03-07 18:02:45  ...  2020-03-07              633\n",
              "426886  064EC7698E4FF9B3 2020-03-08 13:03:57  ...  2020-03-08             1710\n",
              "\n",
              "[3879822 rows x 15 columns]"
            ]
          },
          "metadata": {
            "tags": []
          },
          "execution_count": 16
        }
      ]
    },
    {
      "cell_type": "markdown",
      "metadata": {
        "id": "61joV5fOdbGu"
      },
      "source": [
        "Export"
      ]
    },
    {
      "cell_type": "code",
      "metadata": {
        "id": "q5U50he9Rfsw"
      },
      "source": [
        "clean_data.to_csv(r\"/content/drive/MyDrive/DA_portfolio/Divvy_Trips_cleaner.csv\")"
      ],
      "execution_count": null,
      "outputs": []
    },
    {
      "cell_type": "code",
      "metadata": {
        "id": "gtFkhJVxahGP"
      },
      "source": [
        ""
      ],
      "execution_count": null,
      "outputs": []
    }
  ]
}
